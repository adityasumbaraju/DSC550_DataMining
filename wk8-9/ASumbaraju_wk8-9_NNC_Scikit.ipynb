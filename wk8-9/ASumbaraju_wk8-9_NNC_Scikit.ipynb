{
 "cells": [
  {
   "cell_type": "code",
   "execution_count": 87,
   "metadata": {},
   "outputs": [],
   "source": [
    "import numpy as np\n",
    "import pandas as pd\n",
    "import re\n",
    "\n",
    "from nltk.corpus import stopwords\n",
    "from nltk.stem import SnowballStemmer\n",
    "\n",
    "from sklearn.feature_extraction.text import CountVectorizer\n",
    "from sklearn.model_selection import train_test_split\n",
    "\n",
    "\n",
    "from sklearn.model_selection import cross_val_score\n",
    "from sklearn.neural_network import MLPClassifier\n",
    "from sklearn.pipeline import Pipeline\n",
    "from sklearn.metrics import confusion_matrix, accuracy_score, precision_score, recall_score, f1_score"
   ]
  },
  {
   "cell_type": "code",
   "execution_count": 74,
   "metadata": {},
   "outputs": [
    {
     "data": {
      "text/plain": [
       "cat    606476\n",
       "txt    606476\n",
       "dtype: int64"
      ]
     },
     "execution_count": 74,
     "metadata": {},
     "output_type": "execute_result"
    }
   ],
   "source": [
    "# Downloaded the file from Week 2 Data Files andsaved in my local at C:\\BU\\DSC550\\wk8-9\\data\\categorized-comments.jsonl\n",
    "# # Pre-processing Text\n",
    "def readFile(f='C:/BU/DSC550/wk8-9/data/categorized-comments.jsonl'):\n",
    "    df = pd.read_json(f, lines=True)\n",
    "    return df\n",
    "    \n",
    "df_categorized_comments = readFile()\n",
    "df_categorized_comments.count()"
   ]
  },
  {
   "cell_type": "code",
   "execution_count": 89,
   "metadata": {},
   "outputs": [
    {
     "name": "stdout",
     "output_type": "stream",
     "text": [
      "cat    48518\n",
      "txt    48518\n",
      "dtype: int64\n"
     ]
    },
    {
     "data": {
      "text/html": [
       "<div>\n",
       "<style scoped>\n",
       "    .dataframe tbody tr th:only-of-type {\n",
       "        vertical-align: middle;\n",
       "    }\n",
       "\n",
       "    .dataframe tbody tr th {\n",
       "        vertical-align: top;\n",
       "    }\n",
       "\n",
       "    .dataframe thead th {\n",
       "        text-align: right;\n",
       "    }\n",
       "</style>\n",
       "<table border=\"1\" class=\"dataframe\">\n",
       "  <thead>\n",
       "    <tr style=\"text-align: right;\">\n",
       "      <th></th>\n",
       "      <th>cat</th>\n",
       "      <th>txt</th>\n",
       "    </tr>\n",
       "  </thead>\n",
       "  <tbody>\n",
       "    <tr>\n",
       "      <th>48053</th>\n",
       "      <td>sports</td>\n",
       "      <td>[deleted]</td>\n",
       "    </tr>\n",
       "    <tr>\n",
       "      <th>47621</th>\n",
       "      <td>sports</td>\n",
       "      <td>Let's do this but sub in wrestling or women's ...</td>\n",
       "    </tr>\n",
       "    <tr>\n",
       "      <th>344919</th>\n",
       "      <td>video_games</td>\n",
       "      <td>Here you go http://www.muthead.com/17/team-bui...</td>\n",
       "    </tr>\n",
       "    <tr>\n",
       "      <th>52326</th>\n",
       "      <td>sports</td>\n",
       "      <td>Ryzen shine baby</td>\n",
       "    </tr>\n",
       "    <tr>\n",
       "      <th>487970</th>\n",
       "      <td>video_games</td>\n",
       "      <td>[deleted]</td>\n",
       "    </tr>\n",
       "  </tbody>\n",
       "</table>\n",
       "</div>"
      ],
      "text/plain": [
       "                cat                                                txt\n",
       "48053        sports                                          [deleted]\n",
       "47621        sports  Let's do this but sub in wrestling or women's ...\n",
       "344919  video_games  Here you go http://www.muthead.com/17/team-bui...\n",
       "52326        sports                                  Ryzen shine baby \n",
       "487970  video_games                                          [deleted]"
      ]
     },
     "execution_count": 89,
     "metadata": {},
     "output_type": "execute_result"
    }
   ],
   "source": [
    "# Reducing the size of data to execute the task and control the processing time and memory errors\n",
    "# MemoryError: Unable to allocate 52.3 GiB for an array with shape (151619, 46256) and data type int64\n",
    "df_sample_categorized_comments = df_categorized_comments.sample(frac = 0.080) # analyzing with 48518 rows of data from cleaned dataframe\n",
    "print(df_sample_categorized_comments.count())\n",
    "df_sample_categorized_comments.head()"
   ]
  },
  {
   "cell_type": "code",
   "execution_count": 90,
   "metadata": {},
   "outputs": [
    {
     "data": {
      "text/html": [
       "<div>\n",
       "<style scoped>\n",
       "    .dataframe tbody tr th:only-of-type {\n",
       "        vertical-align: middle;\n",
       "    }\n",
       "\n",
       "    .dataframe tbody tr th {\n",
       "        vertical-align: top;\n",
       "    }\n",
       "\n",
       "    .dataframe thead th {\n",
       "        text-align: right;\n",
       "    }\n",
       "</style>\n",
       "<table border=\"1\" class=\"dataframe\">\n",
       "  <thead>\n",
       "    <tr style=\"text-align: right;\">\n",
       "      <th></th>\n",
       "      <th>cat</th>\n",
       "      <th>txt</th>\n",
       "      <th>txt_cleaned</th>\n",
       "    </tr>\n",
       "  </thead>\n",
       "  <tbody>\n",
       "    <tr>\n",
       "      <th>48053</th>\n",
       "      <td>sports</td>\n",
       "      <td>[deleted]</td>\n",
       "      <td>delet</td>\n",
       "    </tr>\n",
       "    <tr>\n",
       "      <th>47621</th>\n",
       "      <td>sports</td>\n",
       "      <td>Let's do this but sub in wrestling or women's ...</td>\n",
       "      <td>let sub wrestl women soccer</td>\n",
       "    </tr>\n",
       "    <tr>\n",
       "      <th>344919</th>\n",
       "      <td>video_games</td>\n",
       "      <td>Here you go http://www.muthead.com/17/team-bui...</td>\n",
       "      <td>here go http www muthead com team builder</td>\n",
       "    </tr>\n",
       "    <tr>\n",
       "      <th>52326</th>\n",
       "      <td>sports</td>\n",
       "      <td>Ryzen shine baby</td>\n",
       "      <td>ryzen shine babi</td>\n",
       "    </tr>\n",
       "    <tr>\n",
       "      <th>487970</th>\n",
       "      <td>video_games</td>\n",
       "      <td>[deleted]</td>\n",
       "      <td>delet</td>\n",
       "    </tr>\n",
       "  </tbody>\n",
       "</table>\n",
       "</div>"
      ],
      "text/plain": [
       "                cat                                                txt  \\\n",
       "48053        sports                                          [deleted]   \n",
       "47621        sports  Let's do this but sub in wrestling or women's ...   \n",
       "344919  video_games  Here you go http://www.muthead.com/17/team-bui...   \n",
       "52326        sports                                  Ryzen shine baby    \n",
       "487970  video_games                                          [deleted]   \n",
       "\n",
       "                                      txt_cleaned  \n",
       "48053                                       delet  \n",
       "47621                 let sub wrestl women soccer  \n",
       "344919  here go http www muthead com team builder  \n",
       "52326                            ryzen shine babi  \n",
       "487970                                      delet  "
      ]
     },
     "execution_count": 90,
     "metadata": {},
     "output_type": "execute_result"
    }
   ],
   "source": [
    "#Convert text to lowercase.\n",
    "# Remove puctuations\n",
    "# Clean the text using stopwords and stemmer\n",
    "stemmer = SnowballStemmer('english')\n",
    "words = stopwords.words('english')\n",
    "df_sample_categorized_comments['txt_cleaned'] = df_sample_categorized_comments['txt'].apply(lambda x: ' '.join([stemmer.stem(i) for i in re.sub(\"[^a-zA-Z]\", \" \", x).split() if i not in words]).lower())\n",
    "df_sample_categorized_comments.head()"
   ]
  },
  {
   "cell_type": "code",
   "execution_count": 91,
   "metadata": {},
   "outputs": [],
   "source": [
    "# Convert Clean_text into a term frequency-inverse document frequency (tfidf) vector.\n",
    "count = CountVectorizer()\n",
    "X = count.fit_transform(df_sample_categorized_comments['txt_cleaned']).toarray()"
   ]
  },
  {
   "cell_type": "code",
   "execution_count": 92,
   "metadata": {},
   "outputs": [],
   "source": [
    "# converting categorical variables to numerical\n",
    "df_sample_categorized_comments = df_sample_categorized_comments.replace({'cat': {'video_games': 0, 'sports': 1, 'science_and_technology':2}})\n",
    "df_sample_categorized_comments['cat']= df_sample_categorized_comments['cat'].astype(int)"
   ]
  },
  {
   "cell_type": "code",
   "execution_count": 93,
   "metadata": {},
   "outputs": [],
   "source": [
    "#Step to split the dataset to train and test sets \n",
    "\n",
    "X_train, X_test, y_train, y_test = train_test_split(X, df_sample_categorized_comments['txt_cleaned'], random_state = 0)"
   ]
  },
  {
   "cell_type": "code",
   "execution_count": 94,
   "metadata": {},
   "outputs": [
    {
     "data": {
      "text/plain": [
       "(48518, 25765)"
      ]
     },
     "execution_count": 94,
     "metadata": {},
     "output_type": "execute_result"
    }
   ],
   "source": [
    "from sklearn.feature_extraction.text import TfidfTransformer\n",
    "tfidf_transformer = TfidfTransformer()\n",
    "X_train_tfidf = tfidf_transformer.fit_transform(X)\n",
    "X_train_tfidf.shape"
   ]
  },
  {
   "cell_type": "markdown",
   "metadata": {},
   "source": [
    "# 1. Neural Network Classifier with Sciki"
   ]
  },
  {
   "cell_type": "code",
   "execution_count": 95,
   "metadata": {},
   "outputs": [
    {
     "name": "stdout",
     "output_type": "stream",
     "text": [
      "Iteration 1, loss = 10.41933917\n",
      "Iteration 2, loss = 10.39750489\n",
      "Iteration 3, loss = 10.31309856\n",
      "Iteration 4, loss = 10.11083590\n",
      "Iteration 5, loss = 9.84356786\n",
      "Iteration 6, loss = 9.45246897\n",
      "Iteration 7, loss = 9.05307735\n",
      "Iteration 8, loss = 8.72091249\n"
     ]
    },
    {
     "name": "stderr",
     "output_type": "stream",
     "text": [
      "C:\\Users\\aditya.sumbaraju\\Anaconda3\\lib\\site-packages\\sklearn\\neural_network\\_multilayer_perceptron.py:582: ConvergenceWarning: Stochastic Optimizer: Maximum iterations (8) reached and the optimization hasn't converged yet.\n",
      "  warnings.warn(\n"
     ]
    },
    {
     "data": {
      "text/plain": [
       "MLPClassifier(batch_size=5000, hidden_layer_sizes=(800, 260), max_iter=8,\n",
       "              random_state=0, verbose=True)"
      ]
     },
     "execution_count": 95,
     "metadata": {},
     "output_type": "execute_result"
    }
   ],
   "source": [
    "classifier = MLPClassifier(hidden_layer_sizes =(800, 260), \n",
    "                               batch_size = 5000, \n",
    "                               max_iter = 8, \n",
    "                               verbose = True, \n",
    "                               random_state = 0)\n",
    "classifier.fit(X_train, y_train)"
   ]
  },
  {
   "cell_type": "code",
   "execution_count": 96,
   "metadata": {},
   "outputs": [],
   "source": [
    "\n",
    "#Running the model function\n",
    "y_pred =classifier.predict(X_test)"
   ]
  },
  {
   "cell_type": "code",
   "execution_count": 102,
   "metadata": {},
   "outputs": [],
   "source": [
    "#Displaying the result metrics by comparing the predicted categories to the true categories\n",
    "#The training accuracies were checked as well, and it was confirmed that overfitting was not occurring\n",
    "\n",
    "\n",
    "from sklearn.metrics import f1_score, precision_score, recall_score\n",
    "f1 = f1_score(y_test, y_pred, average='macro')\n",
    "recall = recall_score(y_test, y_pred, average='macro')\n",
    "precision = precision_score(y_test, y_pred, average='macro')\n",
    "accuracy = accuracy_score(y_test, y_pred)\n",
    "cf_matrix=confusion_matrix(y_test, y_pred)"
   ]
  },
  {
   "cell_type": "code",
   "execution_count": 104,
   "metadata": {},
   "outputs": [
    {
     "name": "stdout",
     "output_type": "stream",
     "text": [
      "Accuracy score: 0.03619126133553174\n",
      "Precision score: 0.00033131332187408204\n",
      "Recall score: 0.000877654906090925\n",
      "F1 score: 0.00040515461974680706\n",
      "confusion matrix: [[0 0 0 ... 0 0 0]\n",
      " [0 0 0 ... 0 0 0]\n",
      " [0 0 0 ... 0 0 0]\n",
      " ...\n",
      " [0 0 0 ... 0 0 0]\n",
      " [0 0 0 ... 0 0 0]\n",
      " [0 0 0 ... 0 0 0]]\n"
     ]
    }
   ],
   "source": [
    "print(\"Accuracy score: {}\".format(accuracy))\n",
    "print(\"Precision score: {}\".format(precision))\n",
    "print(\"Recall score: {}\".format(recall))\n",
    "print(\"F1 score: {}\".format(f1))\n",
    "print(\"confusion matrix: {}\".format(cf_matrix))"
   ]
  }
 ],
 "metadata": {
  "kernelspec": {
   "display_name": "Python 3",
   "language": "python",
   "name": "python3"
  },
  "language_info": {
   "codemirror_mode": {
    "name": "ipython",
    "version": 3
   },
   "file_extension": ".py",
   "mimetype": "text/x-python",
   "name": "python",
   "nbconvert_exporter": "python",
   "pygments_lexer": "ipython3",
   "version": "3.8.5"
  }
 },
 "nbformat": 4,
 "nbformat_minor": 4
}
